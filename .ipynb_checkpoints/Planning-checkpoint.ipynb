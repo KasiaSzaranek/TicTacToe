{
 "cells": [
  {
   "cell_type": "markdown",
   "metadata": {},
   "source": [
    "# TicTacToe\n",
    "\n",
    "### Rules\n",
    "\n",
    "1. 3 in a row to win\n",
    "2. 3x3 game board\n",
    "3. First player is X the other is O\n",
    "4. Players alternate between X and O until the game is finished\n",
    "5. X always goes first\n",
    "6. If it is a draw it is called a cat game\n",
    "\n",
    "\n",
    "\n",
    "### Variables and their constraints and their types\n",
    "\n",
    "|Variable   |Constraint   |Data Type   |\n",
    "|:---|:-:|:---|\n",
    "|WinList|Hardcoded - not need for constaints |List- constant|\n",
    "|grid|9 boxes 3x3 (1-9)|  List |\n",
    "|player1name|not null|string|\n",
    "|player2name|not null|string|\n",
    "|player1pos |1-9 |list|\n",
    "|player2pos |1-9 |list|\n",
    "|player1|will be hardcoded|string|\n",
    "|player2|will be hardcoded|string|\n",
    "|go|include player name in it|string(message)|\n",
    "\n",
    "\n",
    "### Testing\n",
    "\n",
    "|Test Num|Description of test|Test Data|Expected outcome|\n",
    "|:---|:---|:-:|:---|\n",
    "|1|Player name will not be empty|valid - nick|To display the name where it is required(For the right player)|\n",
    "|2|Player name will not be empty|invalid - |To not accept it and ask for the person to re enter it|\n",
    "|3|Player pos should not be smaller than 1 or bigger than 9|valid 1|place a X or O for the player|\n",
    "|4|Player pos should not be smaller than 1 or bigger than 9|invalid 0|should not place an X or O and enter it again|\n",
    "|5|Player pos should not be smaller than 1 or bigger than 9|boundary 1/9|should place an X or O|\n",
    "|6|Player should be rotating between rounds|valid - X then O and repeat|Should start with the X player and then the O player|\n",
    "|7|Can only use an empty space|valid - 3 (not used)|Place a sign in the position|\n",
    "|8|Can only use an empty space|invalid - 3 (used)|Ask to re enter a different position|"
   ]
  }
 ],
 "metadata": {
  "kernelspec": {
   "display_name": "Python 3",
   "language": "python",
   "name": "python3"
  },
  "language_info": {
   "codemirror_mode": {
    "name": "ipython",
    "version": 3
   },
   "file_extension": ".py",
   "mimetype": "text/x-python",
   "name": "python",
   "nbconvert_exporter": "python",
   "pygments_lexer": "ipython3",
   "version": "3.5.2"
  }
 },
 "nbformat": 4,
 "nbformat_minor": 2
}
